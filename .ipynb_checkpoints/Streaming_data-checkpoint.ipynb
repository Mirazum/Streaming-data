{
 "cells": [
  {
   "cell_type": "raw",
   "metadata": {},
   "source": [
    "#Analysis for Streaming Data"
   ]
  },
  {
   "cell_type": "code",
   "execution_count": 1,
   "metadata": {},
   "outputs": [],
   "source": [
    "import pandas as pd\n",
    "import numpy as np\n",
    "import requests\n",
    "import json"
   ]
  },
  {
   "cell_type": "code",
   "execution_count": 2,
   "metadata": {},
   "outputs": [],
   "source": [
    "from bitarray import bitarray\n",
    "import os\n",
    "import binascii\n",
    "import random\n",
    "import time"
   ]
  },
  {
   "cell_type": "code",
   "execution_count": 3,
   "metadata": {},
   "outputs": [],
   "source": [
    "max_bins = 10000000\n",
    "largePrime = 1003162\n",
    "rand1 = np.random.randint(max_bins)\n",
    "rand2 = np.random.randint(max_bins)"
   ]
  },
  {
   "cell_type": "code",
   "execution_count": 4,
   "metadata": {},
   "outputs": [],
   "source": [
    "def tail_count(hashed):\n",
    "    z=0\n",
    "    for i in range(-1,-10,-1):\n",
    "        if hashed[i]== '0':\n",
    "            z +=1\n",
    "        else:\n",
    "                break\n",
    "    return z"
   ]
  },
  {
   "cell_type": "code",
   "execution_count": 5,
   "metadata": {},
   "outputs": [],
   "source": [
    "Time= 60*60*5\n",
    "t_end=time.time()+Time"
   ]
  },
  {
   "cell_type": "code",
   "execution_count": 6,
   "metadata": {},
   "outputs": [],
   "source": [
    "max_tail = 0\n",
    "IDs= set()\n",
    "\n",
    "r = requests.get('http://stream.meetup.com/2/rsvps', stream=True)\n",
    "\n",
    "for raw_rsvp in r.iter_lines():\n",
    "    \n",
    "    zero_count=0\n",
    "    if raw_rsvp:\n",
    "        rsvp = json.loads(raw_rsvp)\n",
    "        c=bin((((rsvp[u'member'][u'member_id'])*rand1+rand2)%largePrime)%max_bins)\n",
    "        IDs.add(c)\n",
    "        zero_count=tail_count(c)\n",
    "        #print(c, zero_count)\n",
    "        if zero_count> max_tail:\n",
    "            max_tail= zero_count\n",
    "        if time.time()>t_end:\n",
    "            break\n",
    "    \n",
    "    "
   ]
  },
  {
   "cell_type": "code",
   "execution_count": 7,
   "metadata": {},
   "outputs": [
    {
     "name": "stdout",
     "output_type": "stream",
     "text": [
      "estimate the unique users with 1 hash function is 512\n",
      "true number of unique user is 26784\n"
     ]
    }
   ],
   "source": [
    "print ('estimate the unique users with 1 hash function is {}'. format(2**max_tail))\n",
    "print('true number of unique user is {}'.format(len(IDs)))"
   ]
  },
  {
   "cell_type": "code",
   "execution_count": 8,
   "metadata": {},
   "outputs": [],
   "source": [
    "# Adding 5 hash\n",
    "rand3 = np.random.randint(max_bins)\n",
    "rand4 = np.random.randint(max_bins)\n",
    "rand5 = np.random.randint(max_bins)\n",
    "rand6 = np.random.randint(max_bins)\n",
    "rand7 = np.random.randint(max_bins)\n",
    "rand8 = np.random.randint(max_bins)\n",
    "rand9 = np.random.randint(max_bins)\n",
    "rand10 = np.random.randint(max_bins)"
   ]
  },
  {
   "cell_type": "code",
   "execution_count": 9,
   "metadata": {},
   "outputs": [],
   "source": [
    "tail=np.zeros((5,5000))\n",
    "groups= np.zeros((5,5,10000))\n",
    "group_max=np.zeros((5,5))\n",
    "median_tail=[0]*5\n",
    "IDs=[]\n",
    "idx=1"
   ]
  },
  {
   "cell_type": "code",
   "execution_count": 11,
   "metadata": {},
   "outputs": [],
   "source": [
    "r = requests.get('http://stream.meetup.com/2/rsvps', stream=True)\n",
    "\n",
    "for raw_rsvp in r.iter_lines():\n",
    "    if idx >=20000:\n",
    "        break\n",
    "    zero_count=0\n",
    "    if raw_rsvp:\n",
    "        rsvp = json.loads(raw_rsvp)\n",
    "        if idx < 5000:\n",
    "            c=bin((((rsvp[u'member'][u'member_id'])*rand1+rand2)%largePrime)%max_bins)\n",
    "            tail[0,idx]= tail_count(c)\n",
    "        elif 5000 <= idx < 10000:\n",
    "            c=bin((((rsvp[u'member'][u'member_id'])*rand3+rand4)%largePrime)%max_bins)\n",
    "            tail[1,idx - 5000]= tail_count(c)\n",
    "        elif 10000 <= idx <12000:\n",
    "            c=bin((((rsvp[u'member'][u'member_id'])*rand5+rand6)%largePrime)%max_bins)\n",
    "            tail[2,idx - 10000]= tail_count(c)\n",
    "        elif 12000 <= idx <16000:\n",
    "            c=bin((((rsvp[u'member'][u'member_id'])*rand7+rand8)%largePrime)%max_bins)\n",
    "            tail[3,idx - 12000]= tail_count(c)\n",
    "        else:\n",
    "            c=bin((((rsvp[u'member'][u'member_id'])*rand9+rand10)%largePrime)%max_bins)\n",
    "            tail[3,idx - 16000]= tail_count(c)\n",
    "        \n",
    "        IDs.append(c)\n",
    "    idx +=1\n"
   ]
  },
  {
   "cell_type": "code",
   "execution_count": 12,
   "metadata": {},
   "outputs": [],
   "source": [
    "groups= np.array_split(np.array(tail),5)\n",
    "group_max=np.max(groups, axis=2)\n",
    "median_tail= np.median(group_max, axis=1)\n",
    "avg=np.mean(median_tail)"
   ]
  },
  {
   "cell_type": "code",
   "execution_count": 13,
   "metadata": {},
   "outputs": [
    {
     "name": "stdout",
     "output_type": "stream",
     "text": [
      "estimate the unique users with 5 hash function is 12\n",
      "true number of unique user is 19999\n"
     ]
    }
   ],
   "source": [
    "print ('estimate the unique users with 5 hash function is {}'. format(int(2**avg)))\n",
    "print('true number of unique user is {}'.format(len(IDs)))"
   ]
  },
  {
   "cell_type": "code",
   "execution_count": null,
   "metadata": {},
   "outputs": [],
   "source": []
  }
 ],
 "metadata": {
  "kernelspec": {
   "display_name": "Python 3",
   "language": "python",
   "name": "python3"
  },
  "language_info": {
   "codemirror_mode": {
    "name": "ipython",
    "version": 3
   },
   "file_extension": ".py",
   "mimetype": "text/x-python",
   "name": "python",
   "nbconvert_exporter": "python",
   "pygments_lexer": "ipython3",
   "version": "3.7.0"
  },
  "varInspector": {
   "cols": {
    "lenName": 16,
    "lenType": 16,
    "lenVar": 40
   },
   "kernels_config": {
    "python": {
     "delete_cmd_postfix": "",
     "delete_cmd_prefix": "del ",
     "library": "var_list.py",
     "varRefreshCmd": "print(var_dic_list())"
    },
    "r": {
     "delete_cmd_postfix": ") ",
     "delete_cmd_prefix": "rm(",
     "library": "var_list.r",
     "varRefreshCmd": "cat(var_dic_list()) "
    }
   },
   "types_to_exclude": [
    "module",
    "function",
    "builtin_function_or_method",
    "instance",
    "_Feature"
   ],
   "window_display": false
  }
 },
 "nbformat": 4,
 "nbformat_minor": 2
}
